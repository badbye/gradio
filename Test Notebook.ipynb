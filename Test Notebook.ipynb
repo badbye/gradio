{
 "cells": [
  {
   "cell_type": "code",
   "execution_count": 1,
   "metadata": {},
   "outputs": [
    {
     "name": "stderr",
     "output_type": "stream",
     "text": [
      "Using TensorFlow backend.\n"
     ]
    }
   ],
   "source": [
    "import numpy as np\n",
    "import sklearn\n",
    "import gradio\n",
    "from keras.models import load_model\n",
    "\n",
    "%load_ext autoreload\n",
    "%autoreload 2"
   ]
  },
  {
   "cell_type": "code",
   "execution_count": 2,
   "metadata": {},
   "outputs": [
    {
     "name": "stderr",
     "output_type": "stream",
     "text": [
      "C:\\Users\\islam\\Anaconda3\\envs\\tensorflow\\lib\\site-packages\\keras\\engine\\saving.py:327: UserWarning: Error in loading the saved optimizer state. As a result, your model is starting with a freshly initialized optimizer.\n",
      "  warnings.warn('Error in loading the saved optimizer '\n"
     ]
    }
   ],
   "source": [
    "model = load_model('.models/mnist-cnn.h5')"
   ]
  },
  {
   "cell_type": "code",
   "execution_count": 3,
   "metadata": {},
   "outputs": [],
   "source": [
    "import base64\n",
    "from PIL import Image\n",
    "from io import BytesIO\n",
    "import numpy as np\n",
    "\n",
    "def resize_and_crop(img, size, crop_type='top'):\n",
    "    \"\"\"\n",
    "    Resize and crop an image to fit the specified size.\n",
    "    args:\n",
    "        img_path: path for the image to resize.\n",
    "        modified_path: path to store the modified image.\n",
    "        size: `(width, height)` tuple.\n",
    "        crop_type: can be 'top', 'middle' or 'bottom', depending on this\n",
    "            value, the image will cropped getting the 'top/left', 'midle' or\n",
    "            'bottom/rigth' of the image to fit the size.\n",
    "    raises:\n",
    "        Exception: if can not open the file in img_path of there is problems\n",
    "            to save the image.\n",
    "        ValueError: if an invalid `crop_type` is provided.\n",
    "    \"\"\"\n",
    "    # Get current and desired ratio for the images\n",
    "    img_ratio = img.size[0] / float(img.size[1])\n",
    "    ratio = size[0] / float(size[1])\n",
    "    # The image is scaled/cropped vertically or horizontally depending on the ratio\n",
    "    if ratio > img_ratio:\n",
    "        img = img.resize((size[0], size[0] * img.size[1] / img.size[0]),\n",
    "                         Image.ANTIALIAS)\n",
    "        # Crop in the top, middle or bottom\n",
    "        if crop_type == 'top':\n",
    "            box = (0, 0, img.size[0], size[1])\n",
    "        elif crop_type == 'middle':\n",
    "            box = (0, (img.size[1] - size[1]) / 2, img.size[0], (img.size[1] + size[1]) / 2)\n",
    "        elif crop_type == 'bottom':\n",
    "            box = (0, img.size[1] - size[1], img.size[0], img.size[1])\n",
    "        else:\n",
    "            raise ValueError('ERROR: invalid value for crop_type')\n",
    "        img = img.crop(box)\n",
    "    elif ratio < img_ratio:\n",
    "        img = img.resize((size[1] * img.size[0] / img.size[1], size[1]),\n",
    "                         Image.ANTIALIAS)\n",
    "        # Crop in the top, middle or bottom\n",
    "        if crop_type == 'top':\n",
    "            box = (0, 0, size[0], img.size[1])\n",
    "        elif crop_type == 'middle':\n",
    "            box = ((img.size[0] - size[0]) / 2, 0, (img.size[0] + size[0]) / 2, img.size[1])\n",
    "        elif crop_type == 'bottom':\n",
    "            box = (img.size[0] - size[0], 0, img.size[0], img.size[1])\n",
    "        else:\n",
    "            raise ValueError('ERROR: invalid value for crop_type')\n",
    "        img = img.crop(box)\n",
    "    else:\n",
    "        img = img.resize((size[0], size[1]),\n",
    "                         Image.ANTIALIAS)\n",
    "        # If the scale is the same, we do not need to crop\n",
    "    return img\n",
    "\n",
    "\n",
    "def _pre_process(imgstring):\n",
    "    \"\"\"\n",
    "    \"\"\"\n",
    "    content = imgstring.split(';')[1]\n",
    "    image_encoded = content.split(',')[1]\n",
    "    body = base64.decodebytes(image_encoded.encode('utf-8'))\n",
    "    im = Image.open(BytesIO(base64.b64decode(image_encoded))).convert('L')\n",
    "    im = resize_and_crop(im, (28, 28))\n",
    "    array = np.array(im).flatten().reshape(1, 28, 28, 1)\n",
    "    return array"
   ]
  },
  {
   "cell_type": "code",
   "execution_count": 4,
   "metadata": {
    "scrolled": true
   },
   "outputs": [
    {
     "name": "stdout",
     "output_type": "stream",
     "text": [
      "Model available locally at: http://localhost:6002/templates/tmp_html.html\n",
      "Model available publicly for 8 hours at: http://57d2bd20.ngrok.io/templates/tmp_html.html\n"
     ]
    }
   ],
   "source": [
    "iface = gradio.Interface(input='sketchpad', output='class', model=model, model_type='keras', preprocessing_fn=_pre_process)\n",
    "iface.launch()"
   ]
  }
 ],
 "metadata": {
  "kernelspec": {
   "display_name": "Python 3.6 (tensorflow)",
   "language": "python",
   "name": "tensorflow"
  },
  "language_info": {
   "codemirror_mode": {
    "name": "ipython",
    "version": 3
   },
   "file_extension": ".py",
   "mimetype": "text/x-python",
   "name": "python",
   "nbconvert_exporter": "python",
   "pygments_lexer": "ipython3",
   "version": "3.6.7"
  }
 },
 "nbformat": 4,
 "nbformat_minor": 2
}
