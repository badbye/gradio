{
 "cells": [
  {
   "cell_type": "code",
   "execution_count": 1,
   "metadata": {},
   "outputs": [],
   "source": [
    "%load_ext autoreload\n",
    "%autoreload 2\n",
    "\n",
    "import gradio"
   ]
  },
  {
   "cell_type": "code",
   "execution_count": 2,
   "metadata": {},
   "outputs": [],
   "source": [
    "def test(x):\n",
    "    return x.upper()"
   ]
  },
  {
   "cell_type": "code",
   "execution_count": 3,
   "metadata": {
    "scrolled": true
   },
   "outputs": [
    {
     "name": "stdout",
     "output_type": "stream",
     "text": [
      "Model type not explicitly identified, inferred to be: python function\n"
     ]
    }
   ],
   "source": [
    "iface = gradio.Interface(input=\"textbox\", output=\"textbox\", model=test)"
   ]
  },
  {
   "cell_type": "code",
   "execution_count": 4,
   "metadata": {},
   "outputs": [
    {
     "name": "stdout",
     "output_type": "stream",
     "text": [
      "NOTE: Gradio is in beta2 stage, please report all bugs to: a12d@stanford.edu\n",
      "Model available locally at: http://localhost:7861/interface.html\n",
      "To create a public link, set `share_link=True` in the argument to `launch()`\n"
     ]
    },
    {
     "name": "stderr",
     "output_type": "stream",
     "text": [
      "127.0.0.1 - - [24/Feb/2019 22:21:36] \"GET /interface.html HTTP/1.1\" 200 -\n",
      "127.0.0.1 - - [24/Feb/2019 22:21:36] \"GET /js/all-io.js HTTP/1.1\" 200 -\n",
      "127.0.0.1 - - [24/Feb/2019 22:21:36] \"GET /css/bootstrap.min.css HTTP/1.1\" 200 -\n",
      "127.0.0.1 - - [24/Feb/2019 22:21:37] \"GET /css/draw-a-digit.css HTTP/1.1\" 200 -\n",
      "127.0.0.1 - - [24/Feb/2019 22:21:37] \"GET /js/bootstrap.min.js HTTP/1.1\" 200 -\n",
      "127.0.0.1 - - [24/Feb/2019 22:21:37] \"GET /js/bootstrap-notify.min.js HTTP/1.1\" 200 -\n",
      "127.0.0.1 - - [24/Feb/2019 22:21:37] \"GET /js/textbox-output.js HTTP/1.1\" 200 -\n",
      "127.0.0.1 - - [24/Feb/2019 22:21:37] \"GET /js/textbox-input.js HTTP/1.1\" 200 -\n"
     ]
    }
   ],
   "source": [
    "iface.launch()"
   ]
  }
 ],
 "metadata": {
  "kernelspec": {
   "display_name": "Python 3",
   "language": "python",
   "name": "python3"
  },
  "language_info": {
   "codemirror_mode": {
    "name": "ipython",
    "version": 3
   },
   "file_extension": ".py",
   "mimetype": "text/x-python",
   "name": "python",
   "nbconvert_exporter": "python",
   "pygments_lexer": "ipython3",
   "version": "3.7.0"
  }
 },
 "nbformat": 4,
 "nbformat_minor": 2
}
